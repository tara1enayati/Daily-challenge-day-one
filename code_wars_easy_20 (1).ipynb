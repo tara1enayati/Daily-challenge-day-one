{
  "nbformat": 4,
  "nbformat_minor": 0,
  "metadata": {
    "colab": {
      "provenance": []
    },
    "kernelspec": {
      "name": "python3",
      "display_name": "Python 3"
    },
    "language_info": {
      "name": "python"
    }
  },
  "cells": [
    {
      "cell_type": "markdown",
      "source": [
        "1.  Create a function that takes an integer as an argument and returns \"Even\" for even numbers or \"Odd\" for odd numbers."
      ],
      "metadata": {
        "id": "SoHZV_01G03Y"
      }
    },
    {
      "cell_type": "code",
      "execution_count": null,
      "metadata": {
        "colab": {
          "base_uri": "https://localhost:8080/"
        },
        "id": "g4a1Qo2zGrd5",
        "outputId": "8f0fcc0f-116e-4fca-b331-f06ee135cf65"
      },
      "outputs": [
        {
          "output_type": "stream",
          "name": "stdout",
          "text": [
            "Enter a number: 5265478\n",
            "Even\n"
          ]
        }
      ],
      "source": [
        "def even_or_odd(number):\n",
        "    if number % 2 == 0:\n",
        "        return \"Even\"\n",
        "    else:\n",
        "        return \"Odd\"\n",
        "\n",
        "number = int(input(\"Enter a number: \"))\n",
        "print(even_or_odd(number))\n",
        "\n"
      ]
    },
    {
      "cell_type": "code",
      "source": [
        "def even_or_odd(number):\n",
        "  return [\"Even\", \"Odd\"][number % 2]\n",
        "number = int(input(\"Enter a number: \"))\n",
        "print(even_or_odd(number))"
      ],
      "metadata": {
        "colab": {
          "base_uri": "https://localhost:8080/"
        },
        "id": "gdk0lDYoHlpw",
        "outputId": "1eee36b8-3c98-4b42-9468-04da79913f5e"
      },
      "execution_count": null,
      "outputs": [
        {
          "output_type": "stream",
          "name": "stdout",
          "text": [
            "Enter a number: 125\n",
            "Odd\n"
          ]
        }
      ]
    },
    {
      "cell_type": "code",
      "source": [
        "def even_or_odd(number):\n",
        "    status = \"\"\n",
        "    if number % 2 == 0:\n",
        "        status = \"Even\"\n",
        "    else:\n",
        "        status = \"Odd\"\n",
        "\n",
        "    return status"
      ],
      "metadata": {
        "id": "0dLHSCbbH8wd"
      },
      "execution_count": null,
      "outputs": []
    },
    {
      "cell_type": "code",
      "source": [
        "even_or_odd = lambda number: \"Odd\" if number % 2 else \"Even\"\n"
      ],
      "metadata": {
        "id": "wMB8SHB5IkJb"
      },
      "execution_count": null,
      "outputs": []
    },
    {
      "cell_type": "code",
      "source": [
        "even_or_odd = lambda number: [\"Odd\", \"Even\"][number % 2]"
      ],
      "metadata": {
        "id": "uCzxJpA3Io0W"
      },
      "execution_count": null,
      "outputs": []
    },
    {
      "cell_type": "code",
      "source": [
        "def even_or_odd(number):\n",
        "    even_or_odd = {0: \"Even\", 1: \"Odd\"}\n",
        "    return even_or_odd[number % 2]"
      ],
      "metadata": {
        "id": "coYunEfaI6w3"
      },
      "execution_count": null,
      "outputs": []
    },
    {
      "cell_type": "code",
      "source": [
        "def even_or_odd(number):\n",
        "    if number % 2 == 0:\n",
        "        return \"Even\"\n",
        "    elif number/2 != int:\n",
        "        return \"Odd\""
      ],
      "metadata": {
        "id": "XhbErPKQJPvD"
      },
      "execution_count": null,
      "outputs": []
    },
    {
      "cell_type": "code",
      "source": [
        "def even_or_odd(number):\n",
        "    if number/2 == int(number/2): return \"Even\"\n",
        "    else: return \"Odd\""
      ],
      "metadata": {
        "id": "wWSGt3D-JWTA"
      },
      "execution_count": null,
      "outputs": []
    },
    {
      "cell_type": "markdown",
      "source": [
        "2.  Write a function that takes in a string of one or more words, and returns the same string, but with all words that have five or more letters reversed (Just like the name of this Kata). Strings passed in will consist of only letters and spaces. Spaces will be included only when more than one word is present"
      ],
      "metadata": {
        "id": "f56wTFB5JYha"
      }
    },
    {
      "cell_type": "code",
      "source": [
        "def spin_words(sentence):\n",
        "    words = sentence.split()\n",
        "    reversed_words = []\n",
        "    for word in words:\n",
        "        if len(word) >= 5:\n",
        "            reversed_words.append(word[::-1])\n",
        "        else:\n",
        "            reversed_words.append(word) 5\n",
        "    reversed_sentence = \" \".join(reversed_words)\n",
        "\n",
        "    return reversed_sentence"
      ],
      "metadata": {
        "id": "0qETWY9sKDBr"
      },
      "execution_count": null,
      "outputs": []
    },
    {
      "cell_type": "code",
      "source": [
        "def spin_words(sentence):\n",
        "    # Your code goes here\n",
        "    return \" \".join([x[::-1] if len(x) >= 5 else x for x in sentence.split(\" \")])"
      ],
      "metadata": {
        "id": "hwbSAd5pPumv"
      },
      "execution_count": null,
      "outputs": []
    },
    {
      "cell_type": "code",
      "source": [
        "def spin_words(sentence):\n",
        "    words = [word for word in sentence.split(\" \")]\n",
        "    words = [word if len(word) < 5 else word[::-1] for word in words]\n",
        "    return \" \".join(words)"
      ],
      "metadata": {
        "id": "2TZbU8KBPwOE"
      },
      "execution_count": null,
      "outputs": []
    },
    {
      "cell_type": "code",
      "source": [
        "def spin_words(sentence):\n",
        "    return ' '.join(word if len(word)<5 else word[::-1] for word in sentence.split())"
      ],
      "metadata": {
        "id": "p9Q5PRuiP8JS"
      },
      "execution_count": null,
      "outputs": []
    },
    {
      "cell_type": "code",
      "source": [
        "def spin_words(sentence):\n",
        "    return \" \".join(x[::-1] if len(x) >= 5 else x for x in sentence.split())"
      ],
      "metadata": {
        "id": "Lw2kRK7OQZIP"
      },
      "execution_count": null,
      "outputs": []
    },
    {
      "cell_type": "code",
      "source": [
        "import re\n",
        "\n",
        "def spin_words(sentence):\n",
        "    # Your code goes here\n",
        "    return re.sub(r\"\\w{5,}\", lambda w: w.group(0)[::-1], sentence)"
      ],
      "metadata": {
        "id": "HmkTDAhTQbLQ"
      },
      "execution_count": null,
      "outputs": []
    },
    {
      "cell_type": "markdown",
      "source": [
        "3. A Narcissistic Number (or Armstrong Number) is a positive number which is the sum of its own digits, each raised to the power of the number of digits in a given base. In this Kata, we will restrict ourselves to decimal (base 10).\n",
        "\n",
        "For example, take 153 (3 digits), which is narcissistic:\n",
        "\n",
        "    1^3 + 5^3 + 3^3 = 1 + 125 + 27 = 153\n",
        "and 1652 (4 digits), which isn't:\n",
        "\n",
        "    1^4 + 6^4 + 5^4 + 2^4 = 1 + 1296 + 625 + 16 = 1938\n",
        "The Challenge:\n",
        "\n",
        "Your code must return true or false (not 'true' and 'false') depending upon whether the given number is a Narcissistic number in base 10.\n",
        "\n",
        "This may be True and False in your language, e.g. PHP.\n",
        "\n",
        "Error checking for text strings or other invalid inputs is not required, only valid positive non-zero integers will be passed into the function."
      ],
      "metadata": {
        "id": "sOzxInHXSYaP"
      }
    },
    {
      "cell_type": "code",
      "source": [
        "def narcissistic(number):\n",
        "    digits = [int(digit) for digit in str(number)]\n",
        "    num_digits = len(digits)\n",
        "    narcissistic_sum = sum(digit ** num_digits for digit in digits)\n",
        "    return narcissistic_sum == number\n"
      ],
      "metadata": {
        "id": "OJ0cAhOwWzAt"
      },
      "execution_count": null,
      "outputs": []
    },
    {
      "cell_type": "code",
      "source": [
        "def narcissistic(value):\n",
        "    return value == sum(int(x) ** len(str(value)) for x in str(value))"
      ],
      "metadata": {
        "id": "W55mMfKzXJ3y"
      },
      "execution_count": null,
      "outputs": []
    },
    {
      "cell_type": "code",
      "source": [
        "def narcissistic( value ):\n",
        "    value = str(value)\n",
        "    size = len(value)\n",
        "    sum = 0\n",
        "    for i in value:\n",
        "        sum += int(i) ** size\n",
        "    return sum == int(value)"
      ],
      "metadata": {
        "id": "_rljHCDKXNM4"
      },
      "execution_count": null,
      "outputs": []
    },
    {
      "cell_type": "code",
      "source": [
        "def narcissistic(value):\n",
        "    return bool(value==sum([int(a) ** len(str(value)) for a in str(value)]))"
      ],
      "metadata": {
        "id": "jjV0yxzjXUNe"
      },
      "execution_count": null,
      "outputs": []
    },
    {
      "cell_type": "markdown",
      "source": [
        "4.Welcome.\n",
        "\n",
        "In this kata you are required to, given a string, replace every letter with its position in the alphabet.\n",
        "\n",
        "If anything in the text isn't a letter, ignore it and don't return it.\n",
        "\n",
        "\"a\" = 1, \"b\" = 2, etc.\n",
        "\n",
        "Example\n",
        "Input = \"The sunset sets at twelve o' clock.\"\n",
        "Output = \"20 8 5 19 21 14 19 5 20 19 5 20 19 1 20 20 23 5 12 22 5 15 3 12 15 3 11\""
      ],
      "metadata": {
        "id": "w9B_7F85XRbR"
      }
    },
    {
      "cell_type": "code",
      "source": [
        "def alphabet_position(text):\n",
        "  result = []\n",
        "  for char in text.lower():\n",
        "    if \"a\" <= char <= \"z\":\n",
        "      result.append(str(ord(char)  - ord(\"a\") + 1))\n",
        "  return \" \".join(result)"
      ],
      "metadata": {
        "id": "1Mv5DNldXhuC"
      },
      "execution_count": null,
      "outputs": []
    },
    {
      "cell_type": "code",
      "source": [
        "def alphabet_position(text):\n",
        "    return ' '.join(str(ord(c) - 96) for c in text.lower() if c.isalpha())"
      ],
      "metadata": {
        "id": "Ol9E5K6aapS6"
      },
      "execution_count": null,
      "outputs": []
    },
    {
      "cell_type": "code",
      "source": [
        "def alphabet_position(s):\n",
        "  return \" \".join(str(ord(c)-ord(\"a\")+1) for c in s.lower() if c.isalpha())"
      ],
      "metadata": {
        "id": "Xv4oVLjPa_ce"
      },
      "execution_count": null,
      "outputs": []
    },
    {
      "cell_type": "markdown",
      "source": [
        "5. Implement the function unique_in_order which takes as argument a sequence and returns a list of items without any elements with the same value next to each other and preserving the original order of elements.   \n",
        " unique_in_order('AAAABBBCCDAABBB') == ['A', 'B', 'C', 'D', 'A', 'B']\n",
        "unique_in_order('ABBCcAD')         == ['A', 'B', 'C', 'c', 'A', 'D']\n",
        "unique_in_order([1, 2, 2, 3, 3])   == [1, 2, 3]\n",
        "unique_in_order((1, 2, 2, 3, 3))   == [1, 2, 3]"
      ],
      "metadata": {
        "id": "Nlr882cib7er"
      }
    },
    {
      "cell_type": "code",
      "source": [
        "def unique_in_order(sequence):\n",
        "    result = []\n",
        "    previous = None\n",
        "    for item in sequence:\n",
        "        if item != previous:\n",
        "            result.append(item)\n",
        "            previous = item\n",
        "    return result"
      ],
      "metadata": {
        "id": "oHvVLC0KcQvL"
      },
      "execution_count": 11,
      "outputs": []
    },
    {
      "cell_type": "markdown",
      "source": [
        "result is an empty list where we store unique items.\n",
        "previous keeps track of the last added item in result.\n",
        "As we loop through sequence:\n",
        "If item != previous, it's added to result.\n",
        "Update previous to the current item for the next iteration."
      ],
      "metadata": {
        "id": "b7FwioQPdENi"
      }
    },
    {
      "cell_type": "code",
      "source": [
        "def unique_in_order(iterable):\n",
        "    result = []\n",
        "    prev = None\n",
        "    for char in iterable[0:]:\n",
        "        if char != prev:\n",
        "            result.append(char)\n",
        "            prev = char\n",
        "    return result"
      ],
      "metadata": {
        "id": "dcxUVp2xdYKc"
      },
      "execution_count": null,
      "outputs": []
    },
    {
      "cell_type": "markdown",
      "source": [
        "6.Create a function that returns the sum of the two lowest positive numbers given an array of minimum 4 positive integers. No floats or non-positive integers will be passed.\n",
        "\n",
        "For example, when an array is passed like [19, 5, 42, 2, 77], the output should be 7.\n",
        "\n",
        "[10, 343445353, 3453445, 3453545353453] should return 3453455."
      ],
      "metadata": {
        "id": "lzipv6mPdhqJ"
      }
    },
    {
      "cell_type": "code",
      "source": [
        "def sum_two_smallest_numbers(numbers):\n",
        "    return sum(sorted(numbers)[:2])"
      ],
      "metadata": {
        "id": "XbA0SkKfduNN"
      },
      "execution_count": 12,
      "outputs": []
    },
    {
      "cell_type": "code",
      "source": [
        "def sum_two_smallest_numbers(num_list):\n",
        "    num_list.sort()\n",
        "    return num_list[0] + num_list[1]"
      ],
      "metadata": {
        "id": "Uxkq_DlHgkGP"
      },
      "execution_count": null,
      "outputs": []
    },
    {
      "cell_type": "markdown",
      "source": [
        "7. The rgb function is incomplete. Complete it so that passing in RGB decimal values will result in a hexadecimal representation being returned. Valid decimal values for RGB are 0 - 255. Any values that fall out of that range must be rounded to the closest valid value.\n",
        "\n",
        "Note: Your answer should always be 6 characters long, the shorthand with 3 will not work here.\n",
        "\n",
        "Examples (input --> output):\n",
        "255, 255, 255 --> \"FFFFFF\"\n",
        "255, 255, 300 --> \"FFFFFF\"\n",
        "0, 0, 0       --> \"000000\"\n",
        "148, 0, 211   --> \"9400D3\""
      ],
      "metadata": {
        "id": "0Ssp6zoUgmmX"
      }
    },
    {
      "cell_type": "code",
      "source": [
        "def rgb(r, g, b):\n",
        "    def clamp(x):\n",
        "        return max(0, min(x, 255))\n",
        "\n",
        "    r = clamp(r)\n",
        "    g = clamp(g)\n",
        "    b = clamp(b)\n",
        "\n",
        "    return f\"{r:02X}{g:02X}{b:02X}\""
      ],
      "metadata": {
        "id": "Ah2v6p2PhK4Y"
      },
      "execution_count": 14,
      "outputs": []
    },
    {
      "cell_type": "code",
      "source": [
        "def rgb(r, g, b):\n",
        "    round = lambda x: min(255, max(x, 0))\n",
        "    return (\"{:02X}\" * 3).format(round(r), round(g), round(b))"
      ],
      "metadata": {
        "id": "b1KZ58xPh7qV"
      },
      "execution_count": null,
      "outputs": []
    },
    {
      "cell_type": "code",
      "source": [
        "def limit(num):\n",
        "    if num < 0:\n",
        "        return 0\n",
        "    if num > 255:\n",
        "        return 255\n",
        "    return num\n",
        "\n",
        "\n",
        "def rgb(r, g, b):\n",
        "    return \"{:02X}{:02X}{:02X}\".format(limit(r), limit(g), limit(b))"
      ],
      "metadata": {
        "id": "3xzZLyRoh817"
      },
      "execution_count": null,
      "outputs": []
    },
    {
      "cell_type": "markdown",
      "source": [
        "8. Complete the method/function so that it converts dash/underscore delimited words into camel casing. The first word within the output should be capitalized only if the original word was capitalized (known as Upper Camel Case, also often referred to as Pascal case). The next words should be always capitalized.\n",
        "\n",
        "Examples\n",
        "\"the-stealth-warrior\" gets converted to \"theStealthWarrior\"\n",
        "\n",
        "\"The_Stealth_Warrior\" gets converted to \"TheStealthWarrior\"\n",
        "\n",
        "\"The_Stealth-Warrior\" gets converted to \"TheStealthWarrior\""
      ],
      "metadata": {
        "id": "fsBJyciAh_oX"
      }
    },
    {
      "cell_type": "code",
      "source": [
        "def to_camel_case(text):\n",
        "    if not text:\n",
        "        return \"\"\n",
        "\n",
        "    words = re.split(r\"[-_]\", text)\n",
        "    return words[0] + ''.join(word.capitalize() for word in words[1:])"
      ],
      "metadata": {
        "id": "FJH3SRdBiZOO"
      },
      "execution_count": 15,
      "outputs": []
    },
    {
      "cell_type": "code",
      "source": [
        "def to_camel_case(text):\n",
        "    return text[:1] + text.title()[1:].replace('_', '').replace('-', '')"
      ],
      "metadata": {
        "id": "yz7IaHY_i0wN"
      },
      "execution_count": null,
      "outputs": []
    },
    {
      "cell_type": "code",
      "source": [
        "def to_camel_case(text):\n",
        "    removed = text.replace('-', ' ').replace('_', ' ').split()\n",
        "    if len(removed) == 0:\n",
        "        return ''\n",
        "    return removed[0]+ ''.join([x.capitalize() for x in removed[1:]])"
      ],
      "metadata": {
        "id": "BsWFcbohi1cZ"
      },
      "execution_count": null,
      "outputs": []
    },
    {
      "cell_type": "markdown",
      "source": [
        "9.The maximum sum subarray problem consists in finding the maximum sum of a contiguous subsequence in an array or list of integers:\n",
        "\n",
        "max_sequence([-2, 1, -3, 4, -1, 2, 1, -5, 4])\n",
        "should be 6: [4, -1, 2, 1]\n",
        "Easy case is when the list is made up of only positive numbers and the maximum sum is the sum of the whole array. If the list is made up of only negative numbers, return 0 instead.\n",
        "\n",
        "Empty list is considered to have zero greatest sum. Note that the empty list or array is also a valid sublist/subarray."
      ],
      "metadata": {
        "id": "jCPPbJ25jA_9"
      }
    },
    {
      "cell_type": "code",
      "source": [
        "def max_sequence(arr):\n",
        "    max_so_far = current_max = 0\n",
        "\n",
        "    for x in arr:\n",
        "        current_max = max(0, current_max + x)\n",
        "        max_so_far = max(max_so_far, current_max)\n",
        "\n",
        "    return max_so_far"
      ],
      "metadata": {
        "id": "q3uKKb3KjZpV"
      },
      "execution_count": 16,
      "outputs": []
    },
    {
      "cell_type": "markdown",
      "source": [
        "10.Your task is to sort a given string. Each word in the string will contain a single number. This number is the position the word should have in the result.\n",
        "\n",
        "Note: Numbers can be from 1 to 9. So 1 will be the first word (not 0).\n",
        "\n",
        "If the input string is empty, return an empty string. The words in the input String will only contain valid consecutive numbers.\n",
        "\n",
        "Examples\n",
        "\"is2 Thi1s T4est 3a\"  -->  \"Thi1s is2 3a T4est\"\n",
        "\"4of Fo1r pe6ople g3ood th5e the2\"  -->  \"Fo1r the2 g3ood 4of th5e pe6ople\"\n",
        "\"\"  -->  \"\""
      ],
      "metadata": {
        "id": "gBCsZYeTjtfN"
      }
    },
    {
      "cell_type": "code",
      "source": [
        "import re\n",
        "\n",
        "def order(sentence):\n",
        "    if not sentence:\n",
        "        return \"\"\n",
        "\n",
        "    words = sentence.split()\n",
        "    # Sort words based on the digit found in each word\n",
        "    sorted_words = sorted(words, key=lambda word: int(re.search(r'\\d', word).group()))\n",
        "    return \" \".join(sorted_words)"
      ],
      "metadata": {
        "id": "O7zYydVTkUZv"
      },
      "execution_count": null,
      "outputs": []
    },
    {
      "cell_type": "code",
      "source": [
        "def order(words):\n",
        "  return ' '.join(sorted(words.split(), key=lambda w:sorted(w)))"
      ],
      "metadata": {
        "id": "_d-anJwJkQWT"
      },
      "execution_count": null,
      "outputs": []
    }
  ]
}